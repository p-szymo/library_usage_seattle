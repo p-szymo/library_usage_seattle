{
 "cells": [
  {
   "cell_type": "markdown",
   "metadata": {},
   "source": [
    "# Library Usage in Seattle, 2005-2020\n",
    "\n",
    "## API Calls\n",
    "\n",
    "The following notebook (utilizing functions found in the [api_caller.py](functions/api_caller.py) file) can be used as a framework for calling the API to look for data in a specific date range.\n",
    "\n",
    "Since I had originally downloaded the data on December 15, 2020, I walk through collecting the rest of the data for the year of 2020 (i.e. December 15 through December 31) in this notebook."
   ]
  },
  {
   "cell_type": "code",
   "execution_count": 1,
   "metadata": {},
   "outputs": [],
   "source": [
    "# standard dataframe libraries\n",
    "import pandas as pd; pd.set_option('display.max_columns', 50)\n",
    "import numpy as np\n",
    "\n",
    "# api libraries\n",
    "from sodapy import Socrata\n",
    "import json\n",
    "\n",
    "# custom functions\n",
    "from functions.data_cleaning import *\n",
    "from functions.api_caller import *\n",
    "\n",
    "# reload functions/libraries when edited\n",
    "%load_ext autoreload\n",
    "%autoreload 2\n",
    "\n",
    "# ignore warnings\n",
    "import warnings\n",
    "warnings.filterwarnings('ignore')"
   ]
  },
  {
   "cell_type": "code",
   "execution_count": 2,
   "metadata": {},
   "outputs": [],
   "source": [
    "# parse api credentials\n",
    "file_path = '/Users/p.szymo/Documents/code_world/projects/library_usage_seattle/data/api_keys.json'\n",
    "\n",
    "with open(file_path, 'r') as json_file:\n",
    "    api_dict = json.load(json_file)\n",
    "    \n",
    "api_token = api_dict['api_token']"
   ]
  },
  {
   "cell_type": "code",
   "execution_count": 3,
   "metadata": {},
   "outputs": [],
   "source": [
    "# define several variables for api function\n",
    "\n",
    "# data-specific url code\n",
    "url_addon_code = '5src-czff'\n",
    "\n",
    "# personal api token\n",
    "api_token = api_dict['api_token']\n",
    "\n",
    "# name of date column\n",
    "date_column = 'checkoutdatetime'\n",
    "\n",
    "# date to start collecting data\n",
    "begin_date = '2020-12-15'\n",
    "\n",
    "# date to stop collecting data (non-inclusive)\n",
    "end_date = '2021-01-01'"
   ]
  },
  {
   "cell_type": "code",
   "execution_count": 4,
   "metadata": {},
   "outputs": [
    {
     "data": {
      "text/plain": [
       "(77882, 10)"
      ]
     },
     "execution_count": 4,
     "metadata": {},
     "output_type": "execute_result"
    }
   ],
   "source": [
    "# call api\n",
    "results_df = api_date_caller(\n",
    "    url_addon_code,\n",
    "    api_token,\n",
    "    date_column,\n",
    "    begin_date,\n",
    "    end_date,\n",
    ")\n",
    "\n",
    "# check shape\n",
    "results_df.shape"
   ]
  },
  {
   "cell_type": "code",
   "execution_count": 5,
   "metadata": {},
   "outputs": [
    {
     "data": {
      "text/html": [
       "<div>\n",
       "<style scoped>\n",
       "    .dataframe tbody tr th:only-of-type {\n",
       "        vertical-align: middle;\n",
       "    }\n",
       "\n",
       "    .dataframe tbody tr th {\n",
       "        vertical-align: top;\n",
       "    }\n",
       "\n",
       "    .dataframe thead th {\n",
       "        text-align: right;\n",
       "    }\n",
       "</style>\n",
       "<table border=\"1\" class=\"dataframe\">\n",
       "  <thead>\n",
       "    <tr style=\"text-align: right;\">\n",
       "      <th></th>\n",
       "      <th>id</th>\n",
       "      <th>checkoutyear</th>\n",
       "      <th>bibnumber</th>\n",
       "      <th>itembarcode</th>\n",
       "      <th>itemtype</th>\n",
       "      <th>collection</th>\n",
       "      <th>callnumber</th>\n",
       "      <th>itemtitle</th>\n",
       "      <th>subjects</th>\n",
       "      <th>checkoutdatetime</th>\n",
       "    </tr>\n",
       "  </thead>\n",
       "  <tbody>\n",
       "    <tr>\n",
       "      <th>0</th>\n",
       "      <td>202012150923000010099923236</td>\n",
       "      <td>2020</td>\n",
       "      <td>3486549</td>\n",
       "      <td>0010099923236</td>\n",
       "      <td>acbk</td>\n",
       "      <td>cafic</td>\n",
       "      <td>FIC GHOSH 2019</td>\n",
       "      <td>Gun Island</td>\n",
       "      <td>Booksellers and bookselling Fiction, Self real...</td>\n",
       "      <td>2020-12-15T09:23:00.000</td>\n",
       "    </tr>\n",
       "    <tr>\n",
       "      <th>1</th>\n",
       "      <td>202012150923000010088730089</td>\n",
       "      <td>2020</td>\n",
       "      <td>2163686</td>\n",
       "      <td>0010088730089</td>\n",
       "      <td>jcbk</td>\n",
       "      <td>ncfic</td>\n",
       "      <td>J HUNTER</td>\n",
       "      <td>Into the wild</td>\n",
       "      <td>Cats Juvenile fiction, Feral cats Juvenile fic...</td>\n",
       "      <td>2020-12-15T09:23:00.000</td>\n",
       "    </tr>\n",
       "    <tr>\n",
       "      <th>2</th>\n",
       "      <td>202012150925000010090618306</td>\n",
       "      <td>2020</td>\n",
       "      <td>2800147</td>\n",
       "      <td>0010090618306</td>\n",
       "      <td>acbk</td>\n",
       "      <td>cacomic</td>\n",
       "      <td>741.5973 W678F17 2012</td>\n",
       "      <td>Fables 17 Inherit the wind</td>\n",
       "      <td>Comic books strips etc United States, Comic bo...</td>\n",
       "      <td>2020-12-15T09:25:00.000</td>\n",
       "    </tr>\n",
       "    <tr>\n",
       "      <th>3</th>\n",
       "      <td>202012150925000010101360443</td>\n",
       "      <td>2020</td>\n",
       "      <td>3149052</td>\n",
       "      <td>0010101360443</td>\n",
       "      <td>acbk</td>\n",
       "      <td>cacomic</td>\n",
       "      <td>741.5973 M8344N 2016</td>\n",
       "      <td>Nameless</td>\n",
       "      <td>Adventure and adventurers Comic books strips e...</td>\n",
       "      <td>2020-12-15T09:25:00.000</td>\n",
       "    </tr>\n",
       "    <tr>\n",
       "      <th>4</th>\n",
       "      <td>202012150925000010090494013</td>\n",
       "      <td>2020</td>\n",
       "      <td>2698178</td>\n",
       "      <td>0010090494013</td>\n",
       "      <td>acbk</td>\n",
       "      <td>cacomic</td>\n",
       "      <td>741.5973 W678F15 2011</td>\n",
       "      <td>Fables 15 Rose Red</td>\n",
       "      <td>Comic books strips etc, Fairy tales Comic book...</td>\n",
       "      <td>2020-12-15T09:25:00.000</td>\n",
       "    </tr>\n",
       "  </tbody>\n",
       "</table>\n",
       "</div>"
      ],
      "text/plain": [
       "                            id checkoutyear bibnumber    itembarcode itemtype  \\\n",
       "0  202012150923000010099923236         2020   3486549  0010099923236     acbk   \n",
       "1  202012150923000010088730089         2020   2163686  0010088730089     jcbk   \n",
       "2  202012150925000010090618306         2020   2800147  0010090618306     acbk   \n",
       "3  202012150925000010101360443         2020   3149052  0010101360443     acbk   \n",
       "4  202012150925000010090494013         2020   2698178  0010090494013     acbk   \n",
       "\n",
       "  collection             callnumber                   itemtitle  \\\n",
       "0      cafic         FIC GHOSH 2019                  Gun Island   \n",
       "1      ncfic               J HUNTER               Into the wild   \n",
       "2    cacomic  741.5973 W678F17 2012  Fables 17 Inherit the wind   \n",
       "3    cacomic   741.5973 M8344N 2016                    Nameless   \n",
       "4    cacomic  741.5973 W678F15 2011          Fables 15 Rose Red   \n",
       "\n",
       "                                            subjects         checkoutdatetime  \n",
       "0  Booksellers and bookselling Fiction, Self real...  2020-12-15T09:23:00.000  \n",
       "1  Cats Juvenile fiction, Feral cats Juvenile fic...  2020-12-15T09:23:00.000  \n",
       "2  Comic books strips etc United States, Comic bo...  2020-12-15T09:25:00.000  \n",
       "3  Adventure and adventurers Comic books strips e...  2020-12-15T09:25:00.000  \n",
       "4  Comic books strips etc, Fairy tales Comic book...  2020-12-15T09:25:00.000  "
      ]
     },
     "execution_count": 5,
     "metadata": {},
     "output_type": "execute_result"
    }
   ],
   "source": [
    "# take a look\n",
    "results_df.head()"
   ]
  },
  {
   "cell_type": "code",
   "execution_count": 6,
   "metadata": {},
   "outputs": [],
   "source": [
    "# columns to subset on (to match work in 01_data_cleaning.ipynb notebook)\n",
    "cols = ['collection', 'itemtitle', 'subjects', 'checkoutdatetime']\n",
    "\n",
    "# rename columns (to match work in 01_data_cleaning.ipynb notebook)\n",
    "new_col_names = ['collection', 'title', 'subjects', 'date']"
   ]
  },
  {
   "cell_type": "code",
   "execution_count": 7,
   "metadata": {},
   "outputs": [
    {
     "data": {
      "text/plain": [
       "(77882, 7)"
      ]
     },
     "execution_count": 7,
     "metadata": {},
     "output_type": "execute_result"
    }
   ],
   "source": [
    "# clean and merge data from data dictionary\n",
    "results_transformed = data_transformer(\n",
    "    results_df,\n",
    "    'data/data_dictionary.csv',\n",
    "    usecols=cols,\n",
    "    rename=new_col_names,\n",
    "    dt_format='%Y-%m-%dT%H:%M:%S.%f'\n",
    ")\n",
    "\n",
    "# check shape\n",
    "results_transformed.shape"
   ]
  },
  {
   "cell_type": "code",
   "execution_count": 8,
   "metadata": {},
   "outputs": [
    {
     "data": {
      "text/plain": [
       "array([datetime.date(2020, 12, 15), datetime.date(2020, 12, 16),\n",
       "       datetime.date(2020, 12, 17), datetime.date(2020, 12, 18),\n",
       "       datetime.date(2020, 12, 19), datetime.date(2020, 12, 20),\n",
       "       datetime.date(2020, 12, 21), datetime.date(2020, 12, 22),\n",
       "       datetime.date(2020, 12, 23), datetime.date(2020, 12, 26),\n",
       "       datetime.date(2020, 12, 27), datetime.date(2020, 12, 28),\n",
       "       datetime.date(2020, 12, 29), datetime.date(2020, 12, 30),\n",
       "       datetime.date(2020, 12, 31)], dtype=object)"
      ]
     },
     "execution_count": 8,
     "metadata": {},
     "output_type": "execute_result"
    }
   ],
   "source": [
    "# confirm dates\n",
    "results_transformed.date.unique()"
   ]
  },
  {
   "cell_type": "code",
   "execution_count": 10,
   "metadata": {},
   "outputs": [
    {
     "data": {
      "text/plain": [
       "(6503843, 7)"
      ]
     },
     "execution_count": 10,
     "metadata": {},
     "output_type": "execute_result"
    }
   ],
   "source": [
    "# load final part of big dataset\n",
    "df_final_part = pd.read_pickle('data/seattle_lib_11.pkl', compression='gzip')\n",
    "\n",
    "# check shape\n",
    "df_final_part.shape"
   ]
  },
  {
   "cell_type": "code",
   "execution_count": 11,
   "metadata": {},
   "outputs": [
    {
     "data": {
      "text/plain": [
       "(6581725, 7)"
      ]
     },
     "execution_count": 11,
     "metadata": {},
     "output_type": "execute_result"
    }
   ],
   "source": [
    "# combine with new results\n",
    "df = pd.concat([df_final_part, results_transformed], ignore_index=True)\n",
    "\n",
    "# check shape\n",
    "df.shape"
   ]
  },
  {
   "cell_type": "code",
   "execution_count": 13,
   "metadata": {},
   "outputs": [
    {
     "data": {
      "text/html": [
       "<div>\n",
       "<style scoped>\n",
       "    .dataframe tbody tr th:only-of-type {\n",
       "        vertical-align: middle;\n",
       "    }\n",
       "\n",
       "    .dataframe tbody tr th {\n",
       "        vertical-align: top;\n",
       "    }\n",
       "\n",
       "    .dataframe thead th {\n",
       "        text-align: right;\n",
       "    }\n",
       "</style>\n",
       "<table border=\"1\" class=\"dataframe\">\n",
       "  <thead>\n",
       "    <tr style=\"text-align: right;\">\n",
       "      <th></th>\n",
       "      <th>title</th>\n",
       "      <th>subjects</th>\n",
       "      <th>date</th>\n",
       "      <th>format_group</th>\n",
       "      <th>format_subgroup</th>\n",
       "      <th>category_group</th>\n",
       "      <th>age_group</th>\n",
       "    </tr>\n",
       "  </thead>\n",
       "  <tbody>\n",
       "    <tr>\n",
       "      <th>6581720</th>\n",
       "      <td>ILLM Italian diary</td>\n",
       "      <td>NaN</td>\n",
       "      <td>2020-12-23</td>\n",
       "      <td>Other</td>\n",
       "      <td>NaN</td>\n",
       "      <td>Interlibrary Loan</td>\n",
       "      <td>Adult</td>\n",
       "    </tr>\n",
       "    <tr>\n",
       "      <th>6581721</th>\n",
       "      <td>ILLM Italian diary</td>\n",
       "      <td>NaN</td>\n",
       "      <td>2020-12-29</td>\n",
       "      <td>Other</td>\n",
       "      <td>NaN</td>\n",
       "      <td>Interlibrary Loan</td>\n",
       "      <td>Adult</td>\n",
       "    </tr>\n",
       "    <tr>\n",
       "      <th>6581722</th>\n",
       "      <td>ILLM Toronto eats 100 signature recipes from t...</td>\n",
       "      <td>NaN</td>\n",
       "      <td>2020-12-30</td>\n",
       "      <td>Other</td>\n",
       "      <td>NaN</td>\n",
       "      <td>Interlibrary Loan</td>\n",
       "      <td>Adult</td>\n",
       "    </tr>\n",
       "    <tr>\n",
       "      <th>6581723</th>\n",
       "      <td>ILLM Mad about the house how to decorate your ...</td>\n",
       "      <td>NaN</td>\n",
       "      <td>2020-12-31</td>\n",
       "      <td>Other</td>\n",
       "      <td>NaN</td>\n",
       "      <td>Interlibrary Loan</td>\n",
       "      <td>Adult</td>\n",
       "    </tr>\n",
       "    <tr>\n",
       "      <th>6581724</th>\n",
       "      <td>ILLM Borderline narcissistic and schizoid adap...</td>\n",
       "      <td>NaN</td>\n",
       "      <td>2020-12-31</td>\n",
       "      <td>Other</td>\n",
       "      <td>NaN</td>\n",
       "      <td>Interlibrary Loan</td>\n",
       "      <td>Adult</td>\n",
       "    </tr>\n",
       "  </tbody>\n",
       "</table>\n",
       "</div>"
      ],
      "text/plain": [
       "                                                     title subjects  \\\n",
       "6581720                                 ILLM Italian diary      NaN   \n",
       "6581721                                 ILLM Italian diary      NaN   \n",
       "6581722  ILLM Toronto eats 100 signature recipes from t...      NaN   \n",
       "6581723  ILLM Mad about the house how to decorate your ...      NaN   \n",
       "6581724  ILLM Borderline narcissistic and schizoid adap...      NaN   \n",
       "\n",
       "               date format_group format_subgroup     category_group age_group  \n",
       "6581720  2020-12-23        Other             NaN  Interlibrary Loan     Adult  \n",
       "6581721  2020-12-29        Other             NaN  Interlibrary Loan     Adult  \n",
       "6581722  2020-12-30        Other             NaN  Interlibrary Loan     Adult  \n",
       "6581723  2020-12-31        Other             NaN  Interlibrary Loan     Adult  \n",
       "6581724  2020-12-31        Other             NaN  Interlibrary Loan     Adult  "
      ]
     },
     "execution_count": 13,
     "metadata": {},
     "output_type": "execute_result"
    }
   ],
   "source": [
    "# take a look\n",
    "df.tail()"
   ]
  },
  {
   "cell_type": "code",
   "execution_count": 14,
   "metadata": {},
   "outputs": [],
   "source": [
    "# save\n",
    "df.to_pickle(f'data/seattle_lib_11.pkl', compression='gzip')"
   ]
  }
 ],
 "metadata": {
  "kernelspec": {
   "display_name": "Python [conda env:learn-env] *",
   "language": "python",
   "name": "conda-env-learn-env-py"
  },
  "language_info": {
   "codemirror_mode": {
    "name": "ipython",
    "version": 3
   },
   "file_extension": ".py",
   "mimetype": "text/x-python",
   "name": "python",
   "nbconvert_exporter": "python",
   "pygments_lexer": "ipython3",
   "version": "3.6.9"
  }
 },
 "nbformat": 4,
 "nbformat_minor": 2
}
