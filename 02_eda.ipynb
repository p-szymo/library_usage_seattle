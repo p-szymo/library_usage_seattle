{
 "cells": [
  {
   "cell_type": "markdown",
   "metadata": {},
   "source": [
    "# Library Usage in Seattle, 2005-2020\n",
    "\n",
    "## Exploratory Data Analysis\n",
    "\n",
    "The data that is the basis for this project is the [Checkouts by Title (Physical Items)](https://data.seattle.gov/Community/Checkouts-By-Title-Physical-Items-/5src-czff) dataset from [Seattle Open Data](https://data.seattle.gov/). It was downloaded on December 15, 2020.\n",
    "\n",
    "This notebook uses two datasets that were created in the [previous notebook](01_data_cleaning.ipynb), which I use to explore and analyze the types of items and the quantities of those items that were checked out from the Seattle Library system between 2005 and 2020.\n",
    "\n",
    "## Table of contents\n",
    "\n",
    "1. [Import required packages](#Import-required-packages)\n",
    "2. [Load data](#Load-data)\n",
    "\n",
    "### Import required packages"
   ]
  },
  {
   "cell_type": "code",
   "execution_count": 1,
   "metadata": {},
   "outputs": [],
   "source": [
    "# standard dataframe packages\n",
    "import pandas as pd\n",
    "import numpy as np\n",
    "\n",
    "# custom functions\n",
    "from functions.data_cleaning import *\n",
    "\n",
    "# reload functions/libraries when edited\n",
    "%load_ext autoreload\n",
    "%autoreload 2"
   ]
  },
  {
   "cell_type": "markdown",
   "metadata": {},
   "source": [
    "### Load data\n",
    "\n",
    "[[go back to the top](#Library-Usage-in-Seattle,-2005-2020)]\n",
    "\n",
    "I'll load both the complete item checkouts data, as well as the item counts data, here. Again, these were created in the [previous notebook](01_data_cleaning.ipynb).\n",
    "\n",
    "#### ⏰ Cell below takes ~21.5 minutes to run. ⏰"
   ]
  },
  {
   "cell_type": "code",
   "execution_count": 4,
   "metadata": {},
   "outputs": [
    {
     "name": "stdout",
     "output_type": "stream",
     "text": [
      "Current time = 18:01:13\n",
      "-----------------------\n",
      "Begin load...\n",
      "\n",
      "Current time = 18:01:24\n",
      "-----------------------\n",
      "File 1 loaded successfully.\n",
      "\n",
      "Current time = 18:01:35\n",
      "-----------------------\n",
      "File 2 loaded successfully.\n",
      "\n",
      "Current time = 18:01:36\n",
      "-----------------------\n",
      "Concatenation successful. DataFrame consists of files 1-2.\n",
      "\n",
      "Current time = 18:01:53\n",
      "-----------------------\n",
      "File 3 loaded successfully.\n",
      "\n",
      "Current time = 18:01:56\n",
      "-----------------------\n",
      "Concatenation successful. DataFrame consists of files 1-3.\n",
      "\n",
      "Current time = 18:02:07\n",
      "-----------------------\n",
      "File 4 loaded successfully.\n",
      "\n",
      "Current time = 18:02:11\n",
      "-----------------------\n",
      "Concatenation successful. DataFrame consists of files 1-4.\n",
      "\n",
      "Current time = 18:02:26\n",
      "-----------------------\n",
      "File 5 loaded successfully.\n",
      "\n",
      "Current time = 18:02:45\n",
      "-----------------------\n",
      "Concatenation successful. DataFrame consists of files 1-5.\n",
      "\n",
      "Current time = 18:03:04\n",
      "-----------------------\n",
      "File 6 loaded successfully.\n",
      "\n",
      "Current time = 18:03:45\n",
      "-----------------------\n",
      "Concatenation successful. DataFrame consists of files 1-6.\n",
      "\n",
      "Current time = 18:04:09\n",
      "-----------------------\n",
      "File 7 loaded successfully.\n",
      "\n",
      "Current time = 18:05:15\n",
      "-----------------------\n",
      "Concatenation successful. DataFrame consists of files 1-7.\n",
      "\n",
      "Current time = 18:05:41\n",
      "-----------------------\n",
      "File 8 loaded successfully.\n",
      "\n",
      "Current time = 18:08:25\n",
      "-----------------------\n",
      "Concatenation successful. DataFrame consists of files 1-8.\n",
      "\n",
      "Current time = 18:08:56\n",
      "-----------------------\n",
      "File 9 loaded successfully.\n",
      "\n",
      "Current time = 18:12:14\n",
      "-----------------------\n",
      "Concatenation successful. DataFrame consists of files 1-9.\n",
      "\n",
      "Current time = 18:12:45\n",
      "-----------------------\n",
      "File 10 loaded successfully.\n",
      "\n",
      "Current time = 18:16:52\n",
      "-----------------------\n",
      "Concatenation successful. DataFrame consists of files 1-10.\n",
      "\n",
      "Current time = 18:17:18\n",
      "-----------------------\n",
      "File 11 loaded successfully.\n",
      "\n",
      "Current time = 18:22:34\n",
      "-----------------------\n",
      "Concatenation successful. DataFrame consists of files 1-11.\n",
      "\n",
      "Current time = 18:22:34\n",
      "-----------------------\n",
      "Load complete!\n",
      "\n",
      "CPU times: user 3min 21s, sys: 8min 23s, total: 11min 44s\n",
      "Wall time: 21min 31s\n"
     ]
    }
   ],
   "source": [
    "%%time\n",
    "\n",
    "# uncomment to load complete item checkouts data\n",
    "df_full = load_multi_df(\n",
    "    'data/', 'seattle_lib_', 'pkl', 11, compression='gzip', verbose=2\n",
    ")"
   ]
  },
  {
   "cell_type": "code",
   "execution_count": 5,
   "metadata": {},
   "outputs": [
    {
     "name": "stdout",
     "output_type": "stream",
     "text": [
      "CPU times: user 11.2 ms, sys: 17.6 ms, total: 28.8 ms\n",
      "Wall time: 83.4 ms\n"
     ]
    }
   ],
   "source": [
    "%%time\n",
    "\n",
    "# uncomment to load item counts data\n",
    "df_counts = pd.read_pickle('data/seattle_lib_counts.pkl', compression='gzip')"
   ]
  },
  {
   "cell_type": "code",
   "execution_count": null,
   "metadata": {},
   "outputs": [],
   "source": []
  }
 ],
 "metadata": {
  "kernelspec": {
   "display_name": "Python [conda env:learn-env] *",
   "language": "python",
   "name": "conda-env-learn-env-py"
  },
  "language_info": {
   "codemirror_mode": {
    "name": "ipython",
    "version": 3
   },
   "file_extension": ".py",
   "mimetype": "text/x-python",
   "name": "python",
   "nbconvert_exporter": "python",
   "pygments_lexer": "ipython3",
   "version": "3.6.9"
  }
 },
 "nbformat": 4,
 "nbformat_minor": 2
}
