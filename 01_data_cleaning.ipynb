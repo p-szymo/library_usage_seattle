{
 "cells": [
  {
   "cell_type": "code",
   "execution_count": 1,
   "metadata": {},
   "outputs": [],
   "source": [
    "import pandas as pd\n",
    "import numpy as np"
   ]
  },
  {
   "cell_type": "code",
   "execution_count": 1,
   "metadata": {},
   "outputs": [
    {
     "name": "stdout",
     "output_type": "stream",
     "text": [
      "CPU times: user 355 ms, sys: 83 ms, total: 438 ms\n",
      "Wall time: 479 ms\n"
     ]
    }
   ],
   "source": [
    "%%time\n",
    "\n",
    "df = pd.read_csv('data/Checkouts_By_Title__Physical_Items_.csv', nrows=100000,\n",
    "#                  index_col=0\n",
    "                )"
   ]
  },
  {
   "cell_type": "code",
   "execution_count": 2,
   "metadata": {},
   "outputs": [
    {
     "data": {
      "text/html": [
       "<div>\n",
       "<style scoped>\n",
       "    .dataframe tbody tr th:only-of-type {\n",
       "        vertical-align: middle;\n",
       "    }\n",
       "\n",
       "    .dataframe tbody tr th {\n",
       "        vertical-align: top;\n",
       "    }\n",
       "\n",
       "    .dataframe thead th {\n",
       "        text-align: right;\n",
       "    }\n",
       "</style>\n",
       "<table border=\"1\" class=\"dataframe\">\n",
       "  <thead>\n",
       "    <tr style=\"text-align: right;\">\n",
       "      <th></th>\n",
       "      <th>ID</th>\n",
       "      <th>CheckoutYear</th>\n",
       "      <th>BibNumber</th>\n",
       "      <th>ItemBarcode</th>\n",
       "      <th>ItemType</th>\n",
       "      <th>Collection</th>\n",
       "      <th>CallNumber</th>\n",
       "      <th>ItemTitle</th>\n",
       "      <th>Subjects</th>\n",
       "      <th>CheckoutDateTime</th>\n",
       "    </tr>\n",
       "  </thead>\n",
       "  <tbody>\n",
       "    <tr>\n",
       "      <th>0</th>\n",
       "      <td>200802131938000010055597412</td>\n",
       "      <td>2008</td>\n",
       "      <td>2360904</td>\n",
       "      <td>10055597412</td>\n",
       "      <td>acdvd</td>\n",
       "      <td>nadvd</td>\n",
       "      <td>DVD FIREWAL</td>\n",
       "      <td>Firewall</td>\n",
       "      <td>Kidnapping Drama, Video recordings for the hea...</td>\n",
       "      <td>02/13/2008 07:38:00 PM</td>\n",
       "    </tr>\n",
       "    <tr>\n",
       "      <th>1</th>\n",
       "      <td>200807231453000010048527021</td>\n",
       "      <td>2008</td>\n",
       "      <td>2223703</td>\n",
       "      <td>10048527021</td>\n",
       "      <td>acbk</td>\n",
       "      <td>nanf</td>\n",
       "      <td>793.2 C7744B 2001</td>\n",
       "      <td>best baby shower book a complete guide for par...</td>\n",
       "      <td>Showers Parties</td>\n",
       "      <td>07/23/2008 02:53:00 PM</td>\n",
       "    </tr>\n",
       "    <tr>\n",
       "      <th>2</th>\n",
       "      <td>200912231620000010049723249</td>\n",
       "      <td>2009</td>\n",
       "      <td>2285544</td>\n",
       "      <td>10049723249</td>\n",
       "      <td>acbk</td>\n",
       "      <td>nyfic</td>\n",
       "      <td>YA WESTERF</td>\n",
       "      <td>Uglies</td>\n",
       "      <td>Fantasy, Teenage girls Fiction, Beauty Persona...</td>\n",
       "      <td>12/23/2009 04:20:00 PM</td>\n",
       "    </tr>\n",
       "    <tr>\n",
       "      <th>3</th>\n",
       "      <td>201011161204000010069148970</td>\n",
       "      <td>2010</td>\n",
       "      <td>2614605</td>\n",
       "      <td>10069148970</td>\n",
       "      <td>acbk</td>\n",
       "      <td>napar</td>\n",
       "      <td>618.4 L9511D 2009</td>\n",
       "      <td>doula guide to birth secrets every pregnant wo...</td>\n",
       "      <td>Doulas, Childbirth</td>\n",
       "      <td>11/16/2010 12:04:00 PM</td>\n",
       "    </tr>\n",
       "    <tr>\n",
       "      <th>4</th>\n",
       "      <td>200904261329000010051092236</td>\n",
       "      <td>2009</td>\n",
       "      <td>2301221</td>\n",
       "      <td>10051092236</td>\n",
       "      <td>acbk</td>\n",
       "      <td>canf</td>\n",
       "      <td>641.692 M8216S 2005</td>\n",
       "      <td>Salmon a cookbook</td>\n",
       "      <td>Cookery Salmon</td>\n",
       "      <td>04/26/2009 01:29:00 PM</td>\n",
       "    </tr>\n",
       "  </tbody>\n",
       "</table>\n",
       "</div>"
      ],
      "text/plain": [
       "                            ID  CheckoutYear  BibNumber  ItemBarcode ItemType  \\\n",
       "0  200802131938000010055597412          2008    2360904  10055597412    acdvd   \n",
       "1  200807231453000010048527021          2008    2223703  10048527021     acbk   \n",
       "2  200912231620000010049723249          2009    2285544  10049723249     acbk   \n",
       "3  201011161204000010069148970          2010    2614605  10069148970     acbk   \n",
       "4  200904261329000010051092236          2009    2301221  10051092236     acbk   \n",
       "\n",
       "  Collection           CallNumber  \\\n",
       "0      nadvd          DVD FIREWAL   \n",
       "1       nanf    793.2 C7744B 2001   \n",
       "2      nyfic           YA WESTERF   \n",
       "3      napar    618.4 L9511D 2009   \n",
       "4       canf  641.692 M8216S 2005   \n",
       "\n",
       "                                           ItemTitle  \\\n",
       "0                                           Firewall   \n",
       "1  best baby shower book a complete guide for par...   \n",
       "2                                             Uglies   \n",
       "3  doula guide to birth secrets every pregnant wo...   \n",
       "4                                  Salmon a cookbook   \n",
       "\n",
       "                                            Subjects        CheckoutDateTime  \n",
       "0  Kidnapping Drama, Video recordings for the hea...  02/13/2008 07:38:00 PM  \n",
       "1                                    Showers Parties  07/23/2008 02:53:00 PM  \n",
       "2  Fantasy, Teenage girls Fiction, Beauty Persona...  12/23/2009 04:20:00 PM  \n",
       "3                                 Doulas, Childbirth  11/16/2010 12:04:00 PM  \n",
       "4                                     Cookery Salmon  04/26/2009 01:29:00 PM  "
      ]
     },
     "execution_count": 2,
     "metadata": {},
     "output_type": "execute_result"
    }
   ],
   "source": [
    "df.head()"
   ]
  },
  {
   "cell_type": "code",
   "execution_count": null,
   "metadata": {},
   "outputs": [],
   "source": [
    "%%time\n",
    "\n",
    "# uncomment to save\n",
    "with gzip.open('data/seattle_lib.pkl', 'wb') as goodbye:\n",
    "    pickle.dump(df, goodbye, protocol=pickle.HIGHEST_PROTOCOL)\n",
    "    \n",
    "# # uncomment to load\n",
    "# with gzip.open('data/seattle_lib.pkl', 'rb') as hello:\n",
    "#     df = pickle.load(hello)"
   ]
  },
  {
   "cell_type": "code",
   "execution_count": null,
   "metadata": {},
   "outputs": [],
   "source": []
  }
 ],
 "metadata": {
  "kernelspec": {
   "display_name": "learn-env",
   "language": "python",
   "name": "learn-env"
  },
  "language_info": {
   "codemirror_mode": {
    "name": "ipython",
    "version": 3
   },
   "file_extension": ".py",
   "mimetype": "text/x-python",
   "name": "python",
   "nbconvert_exporter": "python",
   "pygments_lexer": "ipython3",
   "version": "3.6.9"
  }
 },
 "nbformat": 4,
 "nbformat_minor": 2
}
